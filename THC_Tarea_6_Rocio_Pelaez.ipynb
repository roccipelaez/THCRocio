{
  "nbformat": 4,
  "nbformat_minor": 0,
  "metadata": {
    "colab": {
      "provenance": [],
      "authorship_tag": "ABX9TyPtA7DSZI47fFeiMNjXM5sn",
      "include_colab_link": true
    },
    "kernelspec": {
      "name": "python3",
      "display_name": "Python 3"
    },
    "language_info": {
      "name": "python"
    }
  },
  "cells": [
    {
      "cell_type": "markdown",
      "metadata": {
        "id": "view-in-github",
        "colab_type": "text"
      },
      "source": [
        "<a href=\"https://colab.research.google.com/github/roccipelaez/THCRocio/blob/main/THC_Tarea_6_Rocio_Pelaez.ipynb\" target=\"_parent\"><img src=\"https://colab.research.google.com/assets/colab-badge.svg\" alt=\"Open In Colab\"/></a>"
      ]
    },
    {
      "cell_type": "code",
      "execution_count": null,
      "metadata": {
        "id": "yleqXGpqV27o"
      },
      "outputs": [],
      "source": [
        "\"\"\"\n",
        "Tarea 6\n",
        "\n",
        "Pelaez Ventura Rocio\n",
        "\n",
        "computation . ipynb\n",
        "\"\"\""
      ]
    },
    {
      "cell_type": "markdown",
      "source": [
        "**Dado dos vectores calcular:**"
      ],
      "metadata": {
        "id": "ODVLuplSWVig"
      }
    },
    {
      "cell_type": "code",
      "source": [
        "\"\"\"PRODUCTO DE LOS VECTORES\"\"\"\n",
        "A=(5,9)\n",
        "B=(5,8)\n",
        "def prod_vec(A,B):\n",
        "  if len(A)==len(B):\n",
        "     n=len(A)\n",
        "     C=0\n",
        "     for i in range(n):\n",
        "       C=C+A[i]* B[i]\n",
        "     return C\n",
        "  else:\n",
        "      return print(\"No es posible\")\n",
        "\n",
        "print(prod_vec(A,B))"
      ],
      "metadata": {
        "colab": {
          "base_uri": "https://localhost:8080/"
        },
        "id": "sLcURfHDWMvZ",
        "outputId": "729e25fe-bf82-4b9d-fce0-ca463356077f"
      },
      "execution_count": null,
      "outputs": [
        {
          "output_type": "stream",
          "name": "stdout",
          "text": [
            "97\n"
          ]
        }
      ]
    },
    {
      "cell_type": "code",
      "source": [
        "\"\"\"LA POTENCIA DE CADA VECTOR (n=3)\"\"\"\n",
        "A=(5,8)\n",
        "B=(1,4)\n",
        "def pot_vec(A,B):\n",
        "  if len(A)==len(B):\n",
        "     n=len(A)\n",
        "     C=[]\n",
        "     for i in range(n):\n",
        "       C.append((A[i]- B[i])**3)\n",
        "     return C\n",
        "\n",
        "print(pot_vec(A,B))"
      ],
      "metadata": {
        "colab": {
          "base_uri": "https://localhost:8080/"
        },
        "id": "0EzCU_VHXbmG",
        "outputId": "b37fa59b-442a-49d2-8dbf-b351dac55655"
      },
      "execution_count": null,
      "outputs": [
        {
          "output_type": "stream",
          "name": "stdout",
          "text": [
            "[64, 64]\n"
          ]
        }
      ]
    },
    {
      "cell_type": "code",
      "source": [
        "\"\"\"EL PRODUCTO ESCALAR\"\"\"\n",
        "A=(5,9)\n",
        "B=(5,8)\n",
        "def prod_esc(beta,A):\n",
        "     C=[]\n",
        "     for i in range(len(A)):\n",
        "       C.append(beta*A[i])\n",
        "     return C\n",
        "\n",
        "print(prod_esc(4,A))"
      ],
      "metadata": {
        "colab": {
          "base_uri": "https://localhost:8080/"
        },
        "id": "Fn0lNd21kT-o",
        "outputId": "12815b79-4f69-40b9-92b0-072b4b1cc7d7"
      },
      "execution_count": null,
      "outputs": [
        {
          "output_type": "stream",
          "name": "stdout",
          "text": [
            "[20, 36]\n"
          ]
        }
      ]
    },
    {
      "cell_type": "code",
      "source": [
        "### FIN DEL PROGRAMA"
      ],
      "metadata": {
        "id": "0tVkt-2YjVrE"
      },
      "execution_count": null,
      "outputs": []
    }
  ]
}