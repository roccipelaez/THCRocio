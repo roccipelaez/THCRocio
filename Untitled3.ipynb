{
  "nbformat": 4,
  "nbformat_minor": 0,
  "metadata": {
    "colab": {
      "provenance": [],
      "authorship_tag": "ABX9TyO6N70c5M6XdKB17ieijGtg",
      "include_colab_link": true
    },
    "kernelspec": {
      "name": "python3",
      "display_name": "Python 3"
    },
    "language_info": {
      "name": "python"
    }
  },
  "cells": [
    {
      "cell_type": "markdown",
      "metadata": {
        "id": "view-in-github",
        "colab_type": "text"
      },
      "source": [
        "<a href=\"https://colab.research.google.com/github/roccipelaez/THCRocio/blob/main/Untitled3.ipynb\" target=\"_parent\"><img src=\"https://colab.research.google.com/assets/colab-badge.svg\" alt=\"Open In Colab\"/></a>"
      ]
    },
    {
      "cell_type": "code",
      "execution_count": 6,
      "metadata": {
        "colab": {
          "base_uri": "https://localhost:8080/"
        },
        "id": "_pCZYUaA5v19",
        "outputId": "8824c3ed-dc6d-4bc5-c23d-d851dee0ff91"
      },
      "outputs": [
        {
          "output_type": "stream",
          "name": "stdout",
          "text": [
            "121\n"
          ]
        }
      ],
      "source": [
        "B= [[20,21,22],[45,46,47],[51,52,55]]\n",
        "print(B[0][0]+B[1][1]+B[2][2])\n"
      ]
    },
    {
      "cell_type": "code",
      "source": [
        "suma= 0.0\n",
        "for i in range(len(pot)):\n",
        "  for j in range(len(pot)):\n",
        "    suma=suma+pot[i][j]\n",
        "print(f\"La suma es {suma}\")"
      ],
      "metadata": {
        "id": "3eSfRhj6AhcR"
      },
      "execution_count": null,
      "outputs": []
    },
    {
      "cell_type": "code",
      "source": [
        "B= [[20,21,22],[45,46,47],[51,52,55]]\n",
        "for i in range(len(B)):\n",
        "  print(B[i][0]+B[i][1]+B[i][2])"
      ],
      "metadata": {
        "colab": {
          "base_uri": "https://localhost:8080/"
        },
        "id": "zpuh_nEE8GYY",
        "outputId": "3185076e-1747-4c83-990b-cd43ba457765"
      },
      "execution_count": 14,
      "outputs": [
        {
          "output_type": "stream",
          "name": "stdout",
          "text": [
            "63\n",
            "138\n",
            "158\n"
          ]
        }
      ]
    },
    {
      "cell_type": "code",
      "source": [
        "import numpy as np\n",
        "B= np.array ([[20,21,22],[45,46,47],[51,52,55]])\n",
        "np.trace(B)\n"
      ],
      "metadata": {
        "colab": {
          "base_uri": "https://localhost:8080/"
        },
        "id": "qv4Kc7lj9KKn",
        "outputId": "dedb3a5c-4bc9-4bfa-f41b-b087adf283c6"
      },
      "execution_count": 15,
      "outputs": [
        {
          "output_type": "execute_result",
          "data": {
            "text/plain": [
              "121"
            ]
          },
          "metadata": {},
          "execution_count": 15
        }
      ]
    },
    {
      "cell_type": "code",
      "source": [
        "A= [[1,2,3],[4,5,6],[7,8,9]]"
      ],
      "metadata": {
        "id": "idhJlyGk_vw4"
      },
      "execution_count": null,
      "outputs": []
    },
    {
      "cell_type": "code",
      "source": [
        "A=[[8,2,3],[1,5,6],[9,7,4]]\n",
        "suma=0.0\n",
        "for i in range(len(A)):\n",
        "  s=A[i][0]**2\n",
        "  su=A[i][1]**2\n",
        "  sum=A[i][2]**2\n",
        "  suma= suma+s+su+sum\n",
        "  print(suma)"
      ],
      "metadata": {
        "colab": {
          "base_uri": "https://localhost:8080/"
        },
        "id": "pjjxLCkVFteZ",
        "outputId": "06bd46ad-a198-4a48-bc79-42614780164e"
      },
      "execution_count": 21,
      "outputs": [
        {
          "output_type": "stream",
          "name": "stdout",
          "text": [
            "77.0\n",
            "139.0\n",
            "285.0\n"
          ]
        }
      ]
    },
    {
      "cell_type": "code",
      "source": [
        "A=[[8,2,3],[1,5,6],[9,7,4]]\n",
        "suma=0.0\n",
        "for i in range(len(A)):\n",
        "  for j in range(len(A)):\n",
        "    suma=A[i][j]**2\n",
        "    print(s)"
      ],
      "metadata": {
        "colab": {
          "base_uri": "https://localhost:8080/"
        },
        "id": "tM5MD_RBFzIH",
        "outputId": "8172890c-36be-45fd-afb3-62a3017087e1"
      },
      "execution_count": 12,
      "outputs": [
        {
          "output_type": "stream",
          "name": "stdout",
          "text": [
            "16\n",
            "16\n",
            "16\n",
            "16\n",
            "16\n",
            "16\n",
            "16\n",
            "16\n",
            "16\n"
          ]
        }
      ]
    },
    {
      "cell_type": "code",
      "source": [
        "A=[[8,2,3],[1,5,6],[9,7,4]]\n",
        "suma=0.0\n",
        "for i in range(len(A)):\n",
        "  s= A[i][0]**2+A[i][1]**2+A[i][2]**2\n",
        "  print(f\"La suma es {s}\")"
      ],
      "metadata": {
        "colab": {
          "base_uri": "https://localhost:8080/"
        },
        "id": "Oga_F8NvHXkj",
        "outputId": "582c26c7-3442-42f2-cfd1-a44007a51c1c"
      },
      "execution_count": 7,
      "outputs": [
        {
          "output_type": "stream",
          "name": "stdout",
          "text": [
            "La suma es 77\n",
            "La suma es 62\n",
            "La suma es 146\n"
          ]
        }
      ]
    },
    {
      "cell_type": "code",
      "source": [],
      "metadata": {
        "id": "GSgD4DEUH92C"
      },
      "execution_count": null,
      "outputs": []
    }
  ]
}