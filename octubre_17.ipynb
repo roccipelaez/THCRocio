{
  "nbformat": 4,
  "nbformat_minor": 0,
  "metadata": {
    "colab": {
      "provenance": [],
      "include_colab_link": true
    },
    "kernelspec": {
      "name": "python3",
      "display_name": "Python 3"
    },
    "language_info": {
      "name": "python"
    }
  },
  "cells": [
    {
      "cell_type": "markdown",
      "metadata": {
        "id": "view-in-github",
        "colab_type": "text"
      },
      "source": [
        "<a href=\"https://colab.research.google.com/github/roccipelaez/THCRocio/blob/main/octubre_17.ipynb\" target=\"_parent\"><img src=\"https://colab.research.google.com/assets/colab-badge.svg\" alt=\"Open In Colab\"/></a>"
      ]
    },
    {
      "cell_type": "code",
      "execution_count": null,
      "metadata": {
        "colab": {
          "base_uri": "https://localhost:8080/"
        },
        "id": "Dc0hUeLhw8Va",
        "outputId": "bc247aac-f17e-4cf7-d960-1a1cf1863452"
      },
      "outputs": [
        {
          "output_type": "stream",
          "name": "stdout",
          "text": [
            "9.486832980505138\n"
          ]
        }
      ],
      "source": [
        "import math\n",
        "p=[3,3]\n",
        "q=[6,12]\n",
        "print(math.dist(p,q)) #Cálcula la distancia"
      ]
    },
    {
      "cell_type": "code",
      "source": [
        "import random\n",
        "random.seed(10)\n",
        "print(random.random())"
      ],
      "metadata": {
        "colab": {
          "base_uri": "https://localhost:8080/"
        },
        "id": "C9giB7uzyKaI",
        "outputId": "29c6f77a-9dfd-4d1b-c7c0-7c5618274342"
      },
      "execution_count": null,
      "outputs": [
        {
          "output_type": "stream",
          "name": "stdout",
          "text": [
            "0.5714025946899135\n"
          ]
        }
      ]
    },
    {
      "cell_type": "code",
      "source": [
        "import random\n",
        "\n",
        "print(random.randint(3,9))"
      ],
      "metadata": {
        "colab": {
          "base_uri": "https://localhost:8080/"
        },
        "id": "M5w-1dqr0dYq",
        "outputId": "68532589-a80e-4953-83f1-6c937c817f19"
      },
      "execution_count": null,
      "outputs": [
        {
          "output_type": "stream",
          "name": "stdout",
          "text": [
            "6\n"
          ]
        }
      ]
    },
    {
      "cell_type": "code",
      "source": [
        "import random\n",
        "mylist=[\"apple\", \"banana\", \"cherry\"]\n",
        "print(random.choice(mylist))"
      ],
      "metadata": {
        "colab": {
          "base_uri": "https://localhost:8080/"
        },
        "id": "11V89sln1Bdc",
        "outputId": "cfd8e07e-bb10-4780-f1de-b5446262ff83"
      },
      "execution_count": null,
      "outputs": [
        {
          "output_type": "stream",
          "name": "stdout",
          "text": [
            "banana\n"
          ]
        }
      ]
    },
    {
      "cell_type": "code",
      "source": [],
      "metadata": {
        "id": "75lbzPGL3AWH"
      },
      "execution_count": null,
      "outputs": []
    },
    {
      "cell_type": "code",
      "source": [
        "A=[[1,2,3],[4,5,6],[7,8,9]]\n",
        "B=[[10,11,12],[12,14,15],[16,17,18]]\n",
        "print(B)\n",
        "print(A[0][0])\n",
        "print(A[0][1])\n",
        "print(A[0][2])\n"
      ],
      "metadata": {
        "colab": {
          "base_uri": "https://localhost:8080/"
        },
        "id": "2piUcnzf3RaM",
        "outputId": "04fce276-74fb-4fcb-8d62-3196a2cb40ee"
      },
      "execution_count": null,
      "outputs": [
        {
          "output_type": "stream",
          "name": "stdout",
          "text": [
            "[[10, 11, 12], [12, 14, 15], [16, 17, 18]]\n",
            "1\n",
            "2\n",
            "3\n"
          ]
        }
      ]
    },
    {
      "cell_type": "code",
      "source": [
        "B=[[10,11,12],[12,14,15],[16,17,18]]\n",
        "for i in range(len(B)):\n",
        "  print(B[0][i])"
      ],
      "metadata": {
        "colab": {
          "base_uri": "https://localhost:8080/"
        },
        "id": "AjyOI56O4_8h",
        "outputId": "c99a63e0-df65-43b8-c74e-4641422af21b"
      },
      "execution_count": null,
      "outputs": [
        {
          "output_type": "stream",
          "name": "stdout",
          "text": [
            "10\n",
            "11\n",
            "12\n"
          ]
        }
      ]
    },
    {
      "cell_type": "code",
      "source": [
        "B=[[10,11,12],[12,14,15],[16,17,18]]\n",
        "for i in range(len(B)):\n",
        "  print(B[1][i])"
      ],
      "metadata": {
        "colab": {
          "base_uri": "https://localhost:8080/"
        },
        "id": "vNiw-5Nl5M7F",
        "outputId": "d6df880c-e771-4e79-c0b4-9ec7df0b2fa0"
      },
      "execution_count": null,
      "outputs": [
        {
          "output_type": "stream",
          "name": "stdout",
          "text": [
            "12\n",
            "14\n",
            "15\n"
          ]
        }
      ]
    },
    {
      "cell_type": "code",
      "source": [
        "B=[[10,11,12],[12,14,15],[16,17,18]]\n",
        "for i in range(len(B)):\n",
        "  print(B[i][0])"
      ],
      "metadata": {
        "colab": {
          "base_uri": "https://localhost:8080/"
        },
        "id": "-IyXqzVO5oYB",
        "outputId": "2473f55e-f51e-45c9-f5a4-6956ab28431f"
      },
      "execution_count": null,
      "outputs": [
        {
          "output_type": "stream",
          "name": "stdout",
          "text": [
            "10\n",
            "12\n",
            "16\n"
          ]
        }
      ]
    },
    {
      "cell_type": "code",
      "source": [
        "A=[[1,2,3],[4,5,6],[7,8,9]]\n",
        "for i in range(len(A)):\n",
        "  print(A[i])"
      ],
      "metadata": {
        "colab": {
          "base_uri": "https://localhost:8080/"
        },
        "id": "_7_shzXW59-f",
        "outputId": "828577fc-4d32-4dae-c028-14599a3bc0af"
      },
      "execution_count": null,
      "outputs": [
        {
          "output_type": "stream",
          "name": "stdout",
          "text": [
            "[1, 2, 3]\n",
            "[4, 5, 6]\n",
            "[7, 8, 9]\n"
          ]
        }
      ]
    },
    {
      "cell_type": "code",
      "source": [
        "A=[[1,2,3],[4,5,6],[7,8,9]]\n",
        "for i in range(len(A)):\n",
        "  for j in range(len(A)):\n",
        "    print(A[i][j])"
      ],
      "metadata": {
        "colab": {
          "base_uri": "https://localhost:8080/"
        },
        "id": "nMw4_plC6iA6",
        "outputId": "93ce0b92-349a-4648-f6a0-800f31b1c18d"
      },
      "execution_count": null,
      "outputs": [
        {
          "output_type": "stream",
          "name": "stdout",
          "text": [
            "1\n",
            "2\n",
            "3\n",
            "4\n",
            "5\n",
            "6\n",
            "7\n",
            "8\n",
            "9\n"
          ]
        }
      ]
    },
    {
      "cell_type": "code",
      "source": [
        "A=[[1,2,3],[4,5,6],[7,8,9]]\n",
        "for i in range(len(A)):\n",
        "  for j in range(len(A)):\n",
        "    print(A[j][i])"
      ],
      "metadata": {
        "colab": {
          "base_uri": "https://localhost:8080/"
        },
        "id": "89Ip8zxn8iTn",
        "outputId": "b2a777af-8730-4d60-d9cc-cebb9ede4230"
      },
      "execution_count": null,
      "outputs": [
        {
          "output_type": "stream",
          "name": "stdout",
          "text": [
            "1\n",
            "4\n",
            "7\n",
            "2\n",
            "5\n",
            "8\n",
            "3\n",
            "6\n",
            "9\n"
          ]
        }
      ]
    },
    {
      "cell_type": "code",
      "source": [
        "A=[[1,2,3],[4,5,6],[7,8,9]]\n",
        "B=[[10,11,12],[12,14,15],[16,17,18]]\n",
        "for i in range(len(A)):\n",
        "  for j in range(len(A)):\n",
        "    print(A[i][j]+B[i][j])"
      ],
      "metadata": {
        "colab": {
          "base_uri": "https://localhost:8080/"
        },
        "id": "rKImTOuE_emb",
        "outputId": "b8fbc791-d458-43cb-ff70-0b8de37a6081"
      },
      "execution_count": null,
      "outputs": [
        {
          "output_type": "stream",
          "name": "stdout",
          "text": [
            "11\n",
            "13\n",
            "15\n",
            "16\n",
            "19\n",
            "21\n",
            "23\n",
            "25\n",
            "27\n"
          ]
        }
      ]
    },
    {
      "cell_type": "code",
      "source": [
        "A=[5,3,1,8]\n",
        "n=len(A)\n",
        "for i in range(n-1):\n",
        "  if A[i]>A[i+1]:\n",
        "    print(A)\n",
        "    aux=A[i+1]\n",
        "    A[i+1]=A[i]\n",
        "    A[i]=aux\n",
        "    print(A)\n",
        "\n",
        "\n"
      ],
      "metadata": {
        "id": "sC6DJc_8Aqlf",
        "outputId": "a546be53-ea89-4bdd-8410-6838558e638b",
        "colab": {
          "base_uri": "https://localhost:8080/"
        }
      },
      "execution_count": 45,
      "outputs": [
        {
          "output_type": "stream",
          "name": "stdout",
          "text": [
            "[5, 3, 1, 8]\n",
            "[3, 5, 1, 8]\n",
            "[3, 5, 1, 8]\n",
            "[3, 1, 5, 8]\n"
          ]
        }
      ]
    }
  ]
}