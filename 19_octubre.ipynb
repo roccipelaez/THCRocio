{
  "nbformat": 4,
  "nbformat_minor": 0,
  "metadata": {
    "colab": {
      "provenance": [],
      "authorship_tag": "ABX9TyMrVx8CnMk1kIvB9SJ7j4+T",
      "include_colab_link": true
    },
    "kernelspec": {
      "name": "python3",
      "display_name": "Python 3"
    },
    "language_info": {
      "name": "python"
    }
  },
  "cells": [
    {
      "cell_type": "markdown",
      "metadata": {
        "id": "view-in-github",
        "colab_type": "text"
      },
      "source": [
        "<a href=\"https://colab.research.google.com/github/roccipelaez/THCRocio/blob/main/19_octubre.ipynb\" target=\"_parent\"><img src=\"https://colab.research.google.com/assets/colab-badge.svg\" alt=\"Open In Colab\"/></a>"
      ]
    },
    {
      "cell_type": "code",
      "execution_count": 1,
      "metadata": {
        "colab": {
          "base_uri": "https://localhost:8080/"
        },
        "id": "lUFmahXyFh2r",
        "outputId": "0cc57539-8032-42ad-bffc-c740656b7bc3"
      },
      "outputs": [
        {
          "output_type": "stream",
          "name": "stdout",
          "text": [
            "[[1 2 3]\n",
            " [4 5 6]]\n"
          ]
        }
      ],
      "source": [
        "import numpy as np\n",
        "\n",
        "arr=np.array([[1,2,3],[4,5,6]])\n",
        "\n",
        "print(arr)"
      ]
    },
    {
      "cell_type": "code",
      "source": [
        "arr= np.array([[[1,2,3],[4,5,6]],[[1,2,3],[4,5,6]]])\n",
        "print(arr)"
      ],
      "metadata": {
        "colab": {
          "base_uri": "https://localhost:8080/"
        },
        "id": "g2EdXuQjF-7s",
        "outputId": "cfc7b3ad-60e8-449c-9116-2c46fa317364"
      },
      "execution_count": 2,
      "outputs": [
        {
          "output_type": "stream",
          "name": "stdout",
          "text": [
            "[[[1 2 3]\n",
            "  [4 5 6]]\n",
            "\n",
            " [[1 2 3]\n",
            "  [4 5 6]]]\n"
          ]
        }
      ]
    },
    {
      "cell_type": "code",
      "source": [
        "a= np.array(42)\n",
        "b= np.array([1,2,3,4,5])\n",
        "c= np.array([[1,2,3],[4,5,6]])\n",
        "d= np.array([[[1,2,3],[4,5,6]],[[1,2,3],[4,5,6]]])\n",
        "\n",
        "print(a.ndim,a.shape)\n",
        "print(b.ndim,b.shape)\n",
        "print(c.ndim,c.shape)\n",
        "print(d.ndim,d.shape)"
      ],
      "metadata": {
        "colab": {
          "base_uri": "https://localhost:8080/"
        },
        "id": "cq5k99BBGpN4",
        "outputId": "c9bb2e46-5d38-466b-977e-cb53f42f19bd"
      },
      "execution_count": 3,
      "outputs": [
        {
          "output_type": "stream",
          "name": "stdout",
          "text": [
            "0 ()\n",
            "1 (5,)\n",
            "2 (2, 3)\n",
            "3 (2, 2, 3)\n"
          ]
        }
      ]
    },
    {
      "cell_type": "code",
      "source": [
        "arr= np.array([1,2,3,4])\n",
        "print(arr[0])"
      ],
      "metadata": {
        "colab": {
          "base_uri": "https://localhost:8080/"
        },
        "id": "Cpe_iZFPIkhv",
        "outputId": "4a006a67-ea13-4372-bdcb-e2898ec7f6c9"
      },
      "execution_count": 4,
      "outputs": [
        {
          "output_type": "stream",
          "name": "stdout",
          "text": [
            "1\n"
          ]
        }
      ]
    },
    {
      "cell_type": "code",
      "source": [
        "arr= np.array([[1,2,3,4,5],[6,7,8,9,10]])\n",
        "print(\"segundo elemento de la primer fila es: \",arr[0,1])"
      ],
      "metadata": {
        "colab": {
          "base_uri": "https://localhost:8080/"
        },
        "id": "oun9Bjx2Ixqg",
        "outputId": "0953b809-5833-4bdb-9916-f1c17c085cc4"
      },
      "execution_count": 5,
      "outputs": [
        {
          "output_type": "stream",
          "name": "stdout",
          "text": [
            "segundo elemento de la primer fila es:  2\n"
          ]
        }
      ]
    },
    {
      "cell_type": "code",
      "source": [
        "#Suma de elementos de matriz\n",
        "A=[[1,1,1],[1,1,1],[1,1,1]]\n",
        "suma=0\n",
        "for i in  range(len(A)):\n",
        "  for j in range(len(A)):\n",
        "     suma+=A[i][j]\n",
        "print(suma)"
      ],
      "metadata": {
        "colab": {
          "base_uri": "https://localhost:8080/"
        },
        "id": "mGEUzJp0JeLq",
        "outputId": "e9beaa9b-20ec-431a-f7eb-fb4ec0168d7b"
      },
      "execution_count": 6,
      "outputs": [
        {
          "output_type": "stream",
          "name": "stdout",
          "text": [
            "9\n"
          ]
        }
      ]
    },
    {
      "cell_type": "code",
      "source": [
        "import numpy as np\n",
        "arr= np.array([[1,2,3],[4,5,6],[7,8,9]])\n",
        "A= arr[0]+arr[1]+arr[2]\n",
        "print(A[0]+A[1]+A[2])\n"
      ],
      "metadata": {
        "colab": {
          "base_uri": "https://localhost:8080/"
        },
        "id": "52JB4US7Nxhz",
        "outputId": "956d85e0-3b70-47f8-f74f-50a0923a06bc"
      },
      "execution_count": 7,
      "outputs": [
        {
          "output_type": "stream",
          "name": "stdout",
          "text": [
            "45\n"
          ]
        }
      ]
    },
    {
      "cell_type": "code",
      "source": [
        "#Producto escalar por renglones (numpy)\n",
        "import numpy as np\n",
        "arr= np.array([[1,2,3],[4,5,6],[7,8,9]])\n",
        "A= arr[0]+arr[1]+arr[2]\n",
        "print(arr[1])\n"
      ],
      "metadata": {
        "colab": {
          "base_uri": "https://localhost:8080/"
        },
        "id": "PkIn1LzEMSoz",
        "outputId": "46f90ecd-a621-47ad-c414-04b8b0366402"
      },
      "execution_count": 16,
      "outputs": [
        {
          "output_type": "stream",
          "name": "stdout",
          "text": [
            "[4 5 6]\n"
          ]
        }
      ]
    },
    {
      "cell_type": "code",
      "source": [
        "def ProdPunto(a,b):\n",
        "  PP=0.0\n",
        "  for i in range(len(a)):\n",
        "    PP=PP+a[i]+b[i]\n",
        "  return PP\n",
        ""
      ],
      "metadata": {
        "id": "sjUYefyAWkff"
      },
      "execution_count": 17,
      "outputs": []
    },
    {
      "cell_type": "code",
      "source": [
        "arr2=np.array([[1,2,3],[4,5,6],[7,8,9]])\n",
        "arr3=np.array([[1,1,1],[1,1,1],[1,1,1]])\n",
        "PP_por_reng=np.array([0,0,0])\n",
        "PP_por_col=np.array([0,0,0])\n"
      ],
      "metadata": {
        "id": "aharu2dHXGYN"
      },
      "execution_count": 23,
      "outputs": []
    },
    {
      "cell_type": "code",
      "source": [
        "for i in range(len(arr2)):\n",
        "  PP_por_reng[i]=ProdPunto(arr2[i],arr3[i])\n",
        "\n",
        "PP_por_reng"
      ],
      "metadata": {
        "colab": {
          "base_uri": "https://localhost:8080/"
        },
        "id": "MU3-xn4qYMhL",
        "outputId": "620174ba-2078-4c23-9ac1-49a866ab117a"
      },
      "execution_count": 19,
      "outputs": [
        {
          "output_type": "execute_result",
          "data": {
            "text/plain": [
              "array([ 9, 18, 27])"
            ]
          },
          "metadata": {},
          "execution_count": 19
        }
      ]
    },
    {
      "cell_type": "code",
      "source": [
        "def AgarraCol(a,col):\n",
        "  nuevo=[]\n",
        "  for i in range(len(a)):\n",
        "    nuevo.append(a[i,col])\n",
        "  return np.array(nuevo)"
      ],
      "metadata": {
        "id": "-03Uo0KBYuxt"
      },
      "execution_count": 20,
      "outputs": []
    },
    {
      "cell_type": "code",
      "source": [
        "col1=AgarraCol(arr2,0)\n",
        "col1\n"
      ],
      "metadata": {
        "colab": {
          "base_uri": "https://localhost:8080/"
        },
        "id": "j-C3KAJfZZCG",
        "outputId": "cb9f6de8-9666-45ac-ed4e-c6a4ee09ab44"
      },
      "execution_count": 21,
      "outputs": [
        {
          "output_type": "execute_result",
          "data": {
            "text/plain": [
              "array([1, 4, 7])"
            ]
          },
          "metadata": {},
          "execution_count": 21
        }
      ]
    },
    {
      "cell_type": "code",
      "source": [
        "for i in range(len(arr2)):\n",
        "  PP_por_col[i]=ProdPunto(AgarraCol(arr2,i),AgarraCol(arr3,i))\n",
        "PP_por_col"
      ],
      "metadata": {
        "colab": {
          "base_uri": "https://localhost:8080/"
        },
        "id": "VRY1N1U_Z1Tc",
        "outputId": "f0a3f437-8ca4-47f9-98d4-901e2310df4b"
      },
      "execution_count": 24,
      "outputs": [
        {
          "output_type": "execute_result",
          "data": {
            "text/plain": [
              "array([15, 18, 21])"
            ]
          },
          "metadata": {},
          "execution_count": 24
        }
      ]
    }
  ]
}